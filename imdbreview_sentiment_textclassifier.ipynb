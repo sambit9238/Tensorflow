{
 "cells": [
  {
   "cell_type": "raw",
   "metadata": {},
   "source": [
    "The script classifies movie reviews as positive or negative using the text of the review. This is an example of binary—or two-class—classification.\n",
    "The dataset used is IMDB dataset having 50K reviews. 25k each for trainig and testing."
   ]
  },
  {
   "cell_type": "code",
   "execution_count": 1,
   "metadata": {},
   "outputs": [
    {
     "name": "stdout",
     "output_type": "stream",
     "text": [
      "1.12.0\n"
     ]
    }
   ],
   "source": [
    "import tensorflow as tf\n",
    "from tensorflow import keras\n",
    "\n",
    "import numpy as np\n",
    "\n",
    "print(tf.__version__)"
   ]
  },
  {
   "cell_type": "markdown",
   "metadata": {},
   "source": [
    "The IMDB dataset comes packaged with TensorFlow. It has already been preprocessed such that the reviews (sequences of words) have been converted to sequences of integers, where each integer represents a specific word in a dictionary.\n",
    "(not good for learning :-p)"
   ]
  },
  {
   "cell_type": "code",
   "execution_count": 3,
   "metadata": {},
   "outputs": [
    {
     "name": "stdout",
     "output_type": "stream",
     "text": [
      "Downloading data from https://storage.googleapis.com/tensorflow/tf-keras-datasets/imdb.npz\n",
      "17465344/17464789 [==============================] - 15s 1us/step\n"
     ]
    }
   ],
   "source": [
    "imdb_data = keras.datasets.imdb\n",
    "(train_data, train_labels), (test_data, test_labels) = imdb_data.load_data(num_words=10000)\n",
    "#The argument num_words=10000 keeps the top 10,000 most frequently occurring words in the training data."
   ]
  },
  {
   "cell_type": "code",
   "execution_count": 4,
   "metadata": {},
   "outputs": [
    {
     "data": {
      "text/plain": [
       "(25000,)"
      ]
     },
     "execution_count": 4,
     "metadata": {},
     "output_type": "execute_result"
    }
   ],
   "source": [
    "train_data.shape"
   ]
  },
  {
   "cell_type": "code",
   "execution_count": 5,
   "metadata": {},
   "outputs": [
    {
     "data": {
      "text/plain": [
       "(25000,)"
      ]
     },
     "execution_count": 5,
     "metadata": {},
     "output_type": "execute_result"
    }
   ],
   "source": [
    "test_data.shape"
   ]
  },
  {
   "cell_type": "markdown",
   "metadata": {},
   "source": [
    "Explore the data"
   ]
  },
  {
   "cell_type": "markdown",
   "metadata": {},
   "source": [
    "For exploring a little bit, it is important to convert integers back to text"
   ]
  },
  {
   "cell_type": "code",
   "execution_count": 8,
   "metadata": {},
   "outputs": [
    {
     "name": "stdout",
     "output_type": "stream",
     "text": [
      "Downloading data from https://storage.googleapis.com/tensorflow/tf-keras-datasets/imdb_word_index.json\n",
      "1646592/1641221 [==============================] - 1s 1us/step\n"
     ]
    }
   ],
   "source": [
    "# A dictionary mapping words to an integer index\n",
    "word_index = imdb_data.get_word_index()\n",
    "\n",
    "# The first indices are reserved\n",
    "word_index = {k:(v+3) for k,v in word_index.items()} \n",
    "word_index[\"<PAD>\"] = 0\n",
    "word_index[\"<START>\"] = 1\n",
    "word_index[\"<UNK>\"] = 2  # unknown\n",
    "word_index[\"<UNUSED>\"] = 3\n",
    "\n",
    "reverse_word_index = dict([(value, key) for (key, value) in word_index.items()])\n",
    "\n",
    "def decode_review(text):\n",
    "    return ' '.join([reverse_word_index.get(i, '?') for i in text])"
   ]
  },
  {
   "cell_type": "code",
   "execution_count": 11,
   "metadata": {},
   "outputs": [
    {
     "data": {
      "text/plain": [
       "\"<START> shown in australia as <UNK> this incredibly bad movie is so bad that you become <UNK> and have to watch it to the end just to see if it could get any worse and it does the storyline is so predictable it seems written by a high school <UNK> class the sets are pathetic but <UNK> better than the <UNK> and the acting is wooden br br the <UNK> <UNK> seems to have been stolen from the props <UNK> of <UNK> <UNK> there didn't seem to be a single original idea in the whole movie br br i found this movie to be so bad that i laughed most of the way through br br malcolm mcdowell should hang his head in shame he obviously needed the money\""
      ]
     },
     "execution_count": 11,
     "metadata": {},
     "output_type": "execute_result"
    }
   ],
   "source": [
    "decode_review(train_data[20])"
   ]
  },
  {
   "cell_type": "code",
   "execution_count": 12,
   "metadata": {},
   "outputs": [
    {
     "data": {
      "text/plain": [
       "0"
      ]
     },
     "execution_count": 12,
     "metadata": {},
     "output_type": "execute_result"
    }
   ],
   "source": [
    "train_labels[20]"
   ]
  },
  {
   "cell_type": "markdown",
   "metadata": {},
   "source": [
    "#label 0 for negative review and label 1 for positive reviews."
   ]
  },
  {
   "cell_type": "raw",
   "metadata": {},
   "source": [
    "The reviews—the arrays of integers—must be converted to tensors before fed into the neural network. This conversion can be done a couple of ways:\n",
    "\n",
    "-Convert the arrays into vectors of 0s and 1s indicating word occurrence, similar to a one-hot encoding. \n",
    "    For example, the sequence [3, 5] would become a 10,000-dimensional vector that is all zeros except for indices 3 and 5, \n",
    "    which are ones. Then, make this the first layer in our network—a Dense layer—that can handle floating point vector data. \n",
    "    This approach is memory intensive, though, requiring a num_words * num_reviews size matrix.\n",
    "\n",
    "-Alternatively, we can pad the arrays so they all have the same length, then create an integer tensor\n",
    "    of shape max_length * num_reviews. We can use an embedding layer capable of handling this shape \n",
    "    as the first layer in our network."
   ]
  },
  {
   "cell_type": "markdown",
   "metadata": {},
   "source": [
    "Let's get with the second way as the first one is so computationally expensive."
   ]
  },
  {
   "cell_type": "markdown",
   "metadata": {},
   "source": [
    "Since the movie reviews must be the same length, we will use the pad_sequences function to standardize the lengths."
   ]
  },
  {
   "cell_type": "code",
   "execution_count": 16,
   "metadata": {},
   "outputs": [],
   "source": [
    "train_data = keras.preprocessing.sequence.pad_sequences(train_data,\n",
    "                                                        value=word_index[\"<PAD>\"],\n",
    "                                                        padding='post',\n",
    "                                                        maxlen=256)\n",
    "\n",
    "test_data = keras.preprocessing.sequence.pad_sequences(test_data,\n",
    "                                                       value=word_index[\"<PAD>\"],\n",
    "                                                       padding='post',\n",
    "                                                       maxlen=256)"
   ]
  },
  {
   "cell_type": "code",
   "execution_count": 19,
   "metadata": {},
   "outputs": [
    {
     "data": {
      "text/plain": [
       "(25000, 256)"
      ]
     },
     "execution_count": 19,
     "metadata": {},
     "output_type": "execute_result"
    }
   ],
   "source": [
    "train_data.shape"
   ]
  },
  {
   "cell_type": "code",
   "execution_count": 36,
   "metadata": {},
   "outputs": [
    {
     "name": "stdout",
     "output_type": "stream",
     "text": [
      "_________________________________________________________________\n",
      "Layer (type)                 Output Shape              Param #   \n",
      "=================================================================\n",
      "embedding_2 (Embedding)      (None, None, 16)          160000    \n",
      "_________________________________________________________________\n",
      "global_average_pooling1d_2 ( (None, 16)                0         \n",
      "_________________________________________________________________\n",
      "dense_4 (Dense)              (None, 16)                272       \n",
      "_________________________________________________________________\n",
      "dense_5 (Dense)              (None, 1)                 17        \n",
      "=================================================================\n",
      "Total params: 160,289\n",
      "Trainable params: 160,289\n",
      "Non-trainable params: 0\n",
      "_________________________________________________________________\n"
     ]
    }
   ],
   "source": [
    "vocab_size = 10000 #the input dimension will be equal to the vocabulary size\n",
    "\n",
    "model = keras.Sequential()\n",
    "model.add(keras.layers.Embedding(vocab_size, 16))\n",
    "model.add(keras.layers.GlobalAveragePooling1D())\n",
    "model.add(keras.layers.Dense(16, activation=tf.nn.relu))\n",
    "model.add(keras.layers.Dense(1, activation=tf.nn.sigmoid))\n",
    "\n",
    "model.summary()"
   ]
  },
  {
   "cell_type": "raw",
   "metadata": {},
   "source": [
    "The layers are stacked sequentially to build the classifier:\n",
    "\n",
    "-The first layer is an Embedding layer. This layer takes the integer-encoded vocabulary and looks up the embedding vector for each word-index. These vectors are learned as the model trains. The vectors add a dimension to the output array. The resulting dimensions are: (batch, sequence, embedding).\n",
    "-Next, a GlobalAveragePooling1D layer returns a fixed-length output vector for each example by averaging over the sequence dimension. This allows the model to handle input of variable length, in the simplest way possible.\n",
    "-This fixed-length output vector is piped through a fully-connected (Dense) layer with 16 hidden units.\n",
    "-The last layer is densely connected with a single output node. Using the sigmoid activation function, this value is a float between 0 and 1, representing a probability, or confidence level."
   ]
  },
  {
   "cell_type": "code",
   "execution_count": 37,
   "metadata": {},
   "outputs": [],
   "source": [
    "#Since this is a binary classification problem and the model outputs a probability \n",
    "#(a single-unit layer with a sigmoid activation), we'll use the binary_crossentropy loss function.\n",
    "model.compile(optimizer=tf.train.AdamOptimizer(),\n",
    "              loss='binary_crossentropy',\n",
    "              metrics=['accuracy'])\n"
   ]
  },
  {
   "cell_type": "code",
   "execution_count": 38,
   "metadata": {},
   "outputs": [
    {
     "name": "stdout",
     "output_type": "stream",
     "text": [
      "Train on 20000 samples, validate on 5000 samples\n",
      "Epoch 1/50\n",
      "20000/20000 [==============================] - 1s 41us/step - loss: 0.6900 - acc: 0.6602 - val_loss: 0.6848 - val_acc: 0.7064\n",
      "Epoch 2/50\n",
      "20000/20000 [==============================] - 1s 30us/step - loss: 0.6770 - acc: 0.7461 - val_loss: 0.6653 - val_acc: 0.7540\n",
      "Epoch 3/50\n",
      "20000/20000 [==============================] - 1s 28us/step - loss: 0.6490 - acc: 0.7750 - val_loss: 0.6284 - val_acc: 0.7796\n",
      "Epoch 4/50\n",
      "20000/20000 [==============================] - 1s 28us/step - loss: 0.6022 - acc: 0.8028 - val_loss: 0.5757 - val_acc: 0.8018\n",
      "Epoch 5/50\n",
      "20000/20000 [==============================] - 1s 32us/step - loss: 0.5415 - acc: 0.8290 - val_loss: 0.5175 - val_acc: 0.8138\n",
      "Epoch 6/50\n",
      "20000/20000 [==============================] - 1s 31us/step - loss: 0.4772 - acc: 0.8487 - val_loss: 0.4598 - val_acc: 0.8398\n",
      "Epoch 7/50\n",
      "20000/20000 [==============================] - 1s 33us/step - loss: 0.4202 - acc: 0.8658 - val_loss: 0.4154 - val_acc: 0.8562\n",
      "Epoch 8/50\n",
      "20000/20000 [==============================] - 1s 32us/step - loss: 0.3732 - acc: 0.8790 - val_loss: 0.3810 - val_acc: 0.8622\n",
      "Epoch 9/50\n",
      "20000/20000 [==============================] - 1s 27us/step - loss: 0.3375 - acc: 0.8866 - val_loss: 0.3577 - val_acc: 0.8610\n",
      "Epoch 10/50\n",
      "20000/20000 [==============================] - 1s 33us/step - loss: 0.3082 - acc: 0.8943 - val_loss: 0.3372 - val_acc: 0.8714\n",
      "Epoch 11/50\n",
      "20000/20000 [==============================] - 1s 30us/step - loss: 0.2854 - acc: 0.9025 - val_loss: 0.3239 - val_acc: 0.8730\n",
      "Epoch 12/50\n",
      "20000/20000 [==============================] - 1s 32us/step - loss: 0.2668 - acc: 0.9067 - val_loss: 0.3137 - val_acc: 0.8766\n",
      "Epoch 13/50\n",
      "20000/20000 [==============================] - 1s 29us/step - loss: 0.2506 - acc: 0.9117 - val_loss: 0.3060 - val_acc: 0.8778\n",
      "Epoch 14/50\n",
      "20000/20000 [==============================] - 1s 27us/step - loss: 0.2362 - acc: 0.9167 - val_loss: 0.2980 - val_acc: 0.8820\n",
      "Epoch 15/50\n",
      "20000/20000 [==============================] - 1s 33us/step - loss: 0.2236 - acc: 0.9215 - val_loss: 0.2926 - val_acc: 0.8814\n",
      "Epoch 16/50\n",
      "20000/20000 [==============================] - 1s 31us/step - loss: 0.2123 - acc: 0.9248 - val_loss: 0.2886 - val_acc: 0.8856\n",
      "Epoch 17/50\n",
      "20000/20000 [==============================] - 1s 29us/step - loss: 0.2018 - acc: 0.9293 - val_loss: 0.2854 - val_acc: 0.8878\n",
      "Epoch 18/50\n",
      "20000/20000 [==============================] - 1s 31us/step - loss: 0.1924 - acc: 0.9321 - val_loss: 0.2836 - val_acc: 0.8870\n",
      "Epoch 19/50\n",
      "20000/20000 [==============================] - 1s 34us/step - loss: 0.1838 - acc: 0.9359 - val_loss: 0.2814 - val_acc: 0.8890\n",
      "Epoch 20/50\n",
      "20000/20000 [==============================] - 1s 38us/step - loss: 0.1756 - acc: 0.9391 - val_loss: 0.2805 - val_acc: 0.8882\n",
      "Epoch 21/50\n",
      "20000/20000 [==============================] - 1s 37us/step - loss: 0.1678 - acc: 0.9423 - val_loss: 0.2805 - val_acc: 0.8884\n",
      "Epoch 22/50\n",
      "20000/20000 [==============================] - 1s 40us/step - loss: 0.1611 - acc: 0.9443 - val_loss: 0.2796 - val_acc: 0.8894\n",
      "Epoch 23/50\n",
      "20000/20000 [==============================] - 1s 30us/step - loss: 0.1556 - acc: 0.9472 - val_loss: 0.2811 - val_acc: 0.8902\n",
      "Epoch 24/50\n",
      "20000/20000 [==============================] - 1s 33us/step - loss: 0.1483 - acc: 0.9499 - val_loss: 0.2832 - val_acc: 0.8866\n",
      "Epoch 25/50\n",
      "20000/20000 [==============================] - 1s 31us/step - loss: 0.1430 - acc: 0.9518 - val_loss: 0.2835 - val_acc: 0.8892\n",
      "Epoch 26/50\n",
      "20000/20000 [==============================] - 1s 35us/step - loss: 0.1371 - acc: 0.9539 - val_loss: 0.2850 - val_acc: 0.8886\n",
      "Epoch 27/50\n",
      "20000/20000 [==============================] - 1s 33us/step - loss: 0.1321 - acc: 0.9573 - val_loss: 0.2876 - val_acc: 0.8882\n",
      "Epoch 28/50\n",
      "20000/20000 [==============================] - 1s 33us/step - loss: 0.1275 - acc: 0.9584 - val_loss: 0.2894 - val_acc: 0.8884\n",
      "Epoch 29/50\n",
      "20000/20000 [==============================] - 1s 30us/step - loss: 0.1224 - acc: 0.9614 - val_loss: 0.2921 - val_acc: 0.8892\n",
      "Epoch 30/50\n",
      "20000/20000 [==============================] - 1s 26us/step - loss: 0.1178 - acc: 0.9632 - val_loss: 0.2951 - val_acc: 0.8876\n",
      "Epoch 31/50\n",
      "20000/20000 [==============================] - 1s 30us/step - loss: 0.1136 - acc: 0.9651 - val_loss: 0.2974 - val_acc: 0.8874\n",
      "Epoch 32/50\n",
      "20000/20000 [==============================] - 1s 37us/step - loss: 0.1091 - acc: 0.9665 - val_loss: 0.3008 - val_acc: 0.8862\n",
      "Epoch 33/50\n",
      "20000/20000 [==============================] - 1s 32us/step - loss: 0.1053 - acc: 0.9686 - val_loss: 0.3049 - val_acc: 0.8860\n",
      "Epoch 34/50\n",
      "20000/20000 [==============================] - 1s 33us/step - loss: 0.1019 - acc: 0.9693 - val_loss: 0.3094 - val_acc: 0.8862\n",
      "Epoch 35/50\n",
      "20000/20000 [==============================] - 1s 32us/step - loss: 0.0983 - acc: 0.9709 - val_loss: 0.3119 - val_acc: 0.8846\n",
      "Epoch 36/50\n",
      "20000/20000 [==============================] - 1s 27us/step - loss: 0.0944 - acc: 0.9724 - val_loss: 0.3161 - val_acc: 0.8852\n",
      "Epoch 37/50\n",
      "20000/20000 [==============================] - 1s 30us/step - loss: 0.0912 - acc: 0.9738 - val_loss: 0.3210 - val_acc: 0.8846\n",
      "Epoch 38/50\n",
      "20000/20000 [==============================] - 1s 33us/step - loss: 0.0874 - acc: 0.9748 - val_loss: 0.3247 - val_acc: 0.8828\n",
      "Epoch 39/50\n",
      "20000/20000 [==============================] - 1s 29us/step - loss: 0.0843 - acc: 0.9765 - val_loss: 0.3296 - val_acc: 0.8842\n",
      "Epoch 40/50\n",
      "20000/20000 [==============================] - 1s 29us/step - loss: 0.0818 - acc: 0.9774 - val_loss: 0.3342 - val_acc: 0.8842\n",
      "Epoch 41/50\n",
      "20000/20000 [==============================] - 1s 32us/step - loss: 0.0788 - acc: 0.9788 - val_loss: 0.3406 - val_acc: 0.8824\n",
      "Epoch 42/50\n",
      "20000/20000 [==============================] - 1s 30us/step - loss: 0.0764 - acc: 0.9796 - val_loss: 0.3453 - val_acc: 0.8842\n",
      "Epoch 43/50\n",
      "20000/20000 [==============================] - 1s 28us/step - loss: 0.0744 - acc: 0.9806 - val_loss: 0.3490 - val_acc: 0.8844\n",
      "Epoch 44/50\n",
      "20000/20000 [==============================] - 1s 27us/step - loss: 0.0705 - acc: 0.9824 - val_loss: 0.3543 - val_acc: 0.8838\n",
      "Epoch 45/50\n",
      "20000/20000 [==============================] - 1s 28us/step - loss: 0.0680 - acc: 0.9834 - val_loss: 0.3601 - val_acc: 0.8820\n",
      "Epoch 46/50\n",
      "20000/20000 [==============================] - 1s 31us/step - loss: 0.0655 - acc: 0.9845 - val_loss: 0.3656 - val_acc: 0.8812\n",
      "Epoch 47/50\n",
      "20000/20000 [==============================] - 1s 35us/step - loss: 0.0633 - acc: 0.9855 - val_loss: 0.3711 - val_acc: 0.8832\n",
      "Epoch 48/50\n",
      "20000/20000 [==============================] - 1s 31us/step - loss: 0.0617 - acc: 0.9856 - val_loss: 0.3781 - val_acc: 0.8796\n",
      "Epoch 49/50\n",
      "20000/20000 [==============================] - 1s 36us/step - loss: 0.0591 - acc: 0.9859 - val_loss: 0.3821 - val_acc: 0.8814\n",
      "Epoch 50/50\n",
      "20000/20000 [==============================] - 1s 27us/step - loss: 0.0570 - acc: 0.9868 - val_loss: 0.3893 - val_acc: 0.8794\n"
     ]
    }
   ],
   "source": [
    "history = model.fit(train_data, train_labels,\n",
    "                    epochs=50,\n",
    "                    batch_size=512,\n",
    "                    validation_split=0.2)"
   ]
  },
  {
   "cell_type": "code",
   "execution_count": 39,
   "metadata": {},
   "outputs": [
    {
     "name": "stdout",
     "output_type": "stream",
     "text": [
      "25000/25000 [==============================] - 1s 40us/step\n",
      "[0.4266794769096375, 0.8638]\n"
     ]
    }
   ],
   "source": [
    "results = model.evaluate(test_data, test_labels)\n",
    "\n",
    "print(results)"
   ]
  },
  {
   "cell_type": "code",
   "execution_count": 40,
   "metadata": {},
   "outputs": [
    {
     "data": {
      "image/png": "[encoded data removed]",
      "text/plain": [
       "<Figure size 432x288 with 1 Axes>"
      ]
     },
     "metadata": {
      "needs_background": "light"
     },
     "output_type": "display_data"
    }
   ],
   "source": [
    "import matplotlib.pyplot as plt\n",
    "%matplotlib inline\n",
    "\n",
    "acc = history.history['acc']\n",
    "val_acc = history.history['val_acc']\n",
    "loss = history.history['loss']\n",
    "val_loss = history.history['val_loss']\n",
    "\n",
    "epochs = range(1, len(acc) + 1)\n",
    "\n",
    "plt.plot(epochs, acc, 'bo', label='Training Acc')\n",
    "plt.plot(epochs, val_acc, 'b', label='Validation Acc')\n",
    "plt.title('Training and validation Acc')\n",
    "plt.xlabel('Epochs')\n",
    "plt.ylabel('Acc')\n",
    "plt.legend()\n",
    "\n",
    "plt.show()"
   ]
  },
  {
   "cell_type": "raw",
   "metadata": {},
   "source": [
    "Important:\n",
    "    \n",
    "The training accuracy increases with each epoch. This is expected when using a gradient descent optimization.\n",
    "This isn't the case for the validation accuracy. They seem to peak after about twenty epochs. \n",
    "This is an example of overfitting: the model performs better on the training data than it does on data it has never seen before. \n",
    "After this point, the model over-optimizes and learns representations specific to the training data that do not generalize to test data."
   ]
  },
  {
   "cell_type": "code",
   "execution_count": null,
   "metadata": {},
   "outputs": [],
   "source": []
  }
 ],
 "metadata": {
  "kernelspec": {
   "display_name": "Python 3",
   "language": "python",
   "name": "python3"
  },
  "language_info": {
   "codemirror_mode": {
    "name": "ipython",
    "version": 3
   },
   "file_extension": ".py",
   "mimetype": "text/x-python",
   "name": "python",
   "nbconvert_exporter": "python",
   "pygments_lexer": "ipython3",
   "version": "3.6.5"
  }
 },
 "nbformat": 4,
 "nbformat_minor": 2
}
